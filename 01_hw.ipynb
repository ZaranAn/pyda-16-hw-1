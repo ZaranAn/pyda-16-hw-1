{
 "cells": [
  {
   "cell_type": "markdown",
   "metadata": {},
   "source": [
    "# Домашнее задание к лекции \"Основы Python\"\n",
    "## * Задание 1\n",
    "Даны 2 переменных, в которых хранятся строки произвольной длины: phrase_1 и phrase_2.  \n",
    "Напишите код, который проверяет какая из этих строк длиннее. "
   ]
  },
  {
   "cell_type": "code",
   "execution_count": 19,
   "metadata": {},
   "outputs": [
    {
     "name": "stdout",
     "output_type": "stream",
     "text": [
      "Фраза 1 длиннее фразы 2\n"
     ]
    }
   ],
   "source": [
    "phrase_1 = 'Насколько проще было бы писать программы, если бы не заказчики'\n",
    "phrase_2 = '640Кб должно хватить для любых задач. Билл Гейтс (по легенде)'\n",
    "\n",
    "if len(phrase_1)>len(phrase_2): \n",
    "    print('Фраза 1 длиннее фразы 2')\n",
    "elif len(phrase_1)<len(phrase_2): \n",
    "    print('Фраза 2 длиннее фразы 1')\n",
    "else: \n",
    "    print('Фразы имеют одинаковую длину')"
   ]
  },
  {
   "cell_type": "code",
   "execution_count": 20,
   "metadata": {},
   "outputs": [
    {
     "name": "stdout",
     "output_type": "stream",
     "text": [
      "Фраза 2 длиннее фразы 1\n"
     ]
    }
   ],
   "source": [
    "### задание 1.2\n",
    "phrase_1 = '640Кб должно хватить для любых задач. Билл Гейтс (по легенде)'\n",
    "phrase_2 = 'Насколько проще было бы писать программы, если бы не заказчики'\n",
    "\n",
    "if len(phrase_1)>len(phrase_2): \n",
    "    print('Фраза 1 длиннее фразы 2')\n",
    "elif len(phrase_1)<len(phrase_2): \n",
    "    print('Фраза 2 длиннее фразы 1')\n",
    "else: \n",
    "    print('Фразы имеют одинаковую длину')"
   ]
  },
  {
   "cell_type": "code",
   "execution_count": 21,
   "metadata": {},
   "outputs": [
    {
     "name": "stdout",
     "output_type": "stream",
     "text": [
      "Фразы имеют одинаковую длину\n"
     ]
    }
   ],
   "source": [
    "# задание 1.3\n",
    "phrase_1 = 'Насколько проще было бы писать программы, если бы не заказчики'\n",
    "phrase_2 = 'Насколько проще было бы писать программы, если бы не заказчики'\n",
    "\n",
    "if len(phrase_1)>len(phrase_2): \n",
    "    print('Фраза 1 длиннее фразы 2')\n",
    "elif len(phrase_1)<len(phrase_2): \n",
    "    print('Фраза 2 длиннее фразы 1')\n",
    "else: \n",
    "    print('Фразы имеют одинаковую длину')"
   ]
  },
  {
   "cell_type": "markdown",
   "metadata": {},
   "source": [
    "## * Задание 2\n",
    "Дана переменная, в которой хранится четырехзначное число (год).  \n",
    "Необходимо написать программу, которая выведет, является ли данный год високосным или обычным."
   ]
  },
  {
   "cell_type": "code",
   "execution_count": 22,
   "metadata": {},
   "outputs": [
    {
     "name": "stdout",
     "output_type": "stream",
     "text": [
      "year - високосный год\n"
     ]
    }
   ],
   "source": [
    "# задание 2.1\n",
    "year = 2020\n",
    "\n",
    "if year % 4 == 0:\n",
    "    print('year - високосный год')\n",
    "else:\n",
    "    print('year - обычный год')"
   ]
  },
  {
   "cell_type": "code",
   "execution_count": 23,
   "metadata": {},
   "outputs": [
    {
     "name": "stdout",
     "output_type": "stream",
     "text": [
      "year - обычный год\n"
     ]
    }
   ],
   "source": [
    "# задание 2.2\n",
    "year = 2019\n",
    "\n",
    "if year % 4 == 0:\n",
    "    print('year - високосный год')\n",
    "else:\n",
    "    print('year - обычный год')\n"
   ]
  },
  {
   "cell_type": "markdown",
   "metadata": {},
   "source": [
    "## * Задание 3\n",
    "Необходимо написать программу, которая будет запрашивать у пользователя месяц и дату рождения и выводить соответствующий знак зодиака."
   ]
  },
  {
   "cell_type": "code",
   "execution_count": 39,
   "metadata": {},
   "outputs": [
    {
     "name": "stdout",
     "output_type": "stream",
     "text": [
      "Введите день: 28\n",
      "Введите месяц: Апрель\n",
      "Ваш знак зодиака: Телец\n"
     ]
    }
   ],
   "source": [
    "# Узнайте Ваш (чужой) знак зодиака\n",
    "day = int(input('Введите день: ')) \n",
    "month = input('Введите месяц: ')\n",
    "if day >= 21 and month == 'Март' or day <= 19 and month == 'Апрель': \n",
    "        print('Ваш знак зодиака: Овен')\n",
    "elif day >= 20 and month == 'Апрель' or day <=20 and month == 'Май':\n",
    "        print('Ваш знак зодиака: Телец')\n",
    "elif day >=21 and month == 'Май' or day <= 21 and month == 'Июнь':\n",
    "        print('Ваш знак зодиака: Близнецы')\n",
    "elif day >= 22 and month == 'Июнь' or day <= 22 and month == 'Июль':\n",
    "        print('Ваш знак зодиака: Рак')\n",
    "elif day >= 23 and month == 'Июль' or day <=22 and month == 'Июль':\n",
    "        print('Ваш знак зодиака: Лев')\n",
    "elif day >= 23 and month == 'Июль' or day <=22 and month == 'Август':\n",
    "        print('Ваш знак зодиака: Дева')\n",
    "elif day >= 23 and month == 'Август' or day <=22 and month == 'Сентябрь':\n",
    "        print('Ваш знак зодиака: Дева')\n",
    "elif day >= 23 and month == 'Сентябрь' or day <= 23 and month == 'Октябрь':\n",
    "        print('Ваш знак зодиака: Весы')\n",
    "elif day >= 24 and month == 'Октябрь' or day <= 22 and month == 'Ноябрь':\n",
    "        print('Ваш знак зодиака: Скорпион')\n",
    "elif day >= 23 and month == 'Ноябрь' or day <= 21 and month == 'Декабрь':\n",
    "        print('Ваш знак зодиака: Стрелец')\n",
    "elif day >= 22 and month == 'Декабрь' or day <= 20 and month == 'Январь':\n",
    "        print('Ваш знак зодиака: Козерог')\n",
    "elif day >= 21 and month == 'Январь' or day <= 18 and month == 'Февраль':\n",
    "        print('Ваш знак зодиака: Водолей')\n",
    "elif day >= 19 and month == 'Февраль' or day <= 20 and month == 'Март':\n",
    "        print('Ваш знак зодиака: Рыбы')\n",
    "else:\n",
    "    print('Что-то не то')"
   ]
  },
  {
   "cell_type": "markdown",
   "metadata": {},
   "source": [
    "# *Задание 4\n",
    "Вам нужно написать программу для подбора упаковок по размерам товара. Размеры хранятся в переменных (в сантиметрах)"
   ]
  },
  {
   "cell_type": "code",
   "execution_count": 43,
   "metadata": {},
   "outputs": [
    {
     "name": "stdout",
     "output_type": "stream",
     "text": [
      "Коробка №1\n"
     ]
    }
   ],
   "source": [
    "width = 10\n",
    "length = 14\n",
    "height = 5\n",
    "\n",
    "\n",
    "if width < 15 and length <15 and height < 15: #если каждое из трех измерений менее 15 сантиметров, то коробка 1\n",
    "        print('Коробка №1')\n",
    "elif 15 < width < 50 or 15 < length < 50 or 15 < height < 50: #если хотя бы одно из измерений больше 15 сантиметров, но менее 50 сантиметров, то коробка 2\n",
    "        print('Коробка №2')\n",
    "elif length>200: #если длина товара больше 2 метров, то упаковка для лыж\n",
    "        print('Упаковка для лыж')\n",
    "else: #остальные случаи\n",
    "        print('Стандартная коробка №3')"
   ]
  },
  {
   "cell_type": "markdown",
   "metadata": {},
   "source": [
    "# *Задание 5\n",
    "Дана переменная, в которой хранится шестизначное число (номер проездного билета). Напишите программу, которая будет определять, является ли данный билет \"счастливым\". Билет считается счастливым, если сумма первых трех цифр совпадает с суммой последних трех цифр номера."
   ]
  },
  {
   "cell_type": "code",
   "execution_count": 54,
   "metadata": {},
   "outputs": [
    {
     "name": "stdout",
     "output_type": "stream",
     "text": [
      "Введите номер проездного билета: 231123\n",
      "Бинго! Ваш билет оказался счастливым\n"
     ]
    }
   ],
   "source": [
    "your_ticket = input('Введите номер проездного билета: ')\n",
    "\n",
    "if int(your_ticket[0]) + int(your_ticket[1]) + int(your_ticket[2]) == int(your_ticket[3]) + int(your_ticket[4]) + int(your_ticket[5]):\n",
    "        print('Бинго! Ваш билет оказался счастливым')\n",
    "else:\n",
    "        print('Повезет в любви')"
   ]
  },
  {
   "cell_type": "markdown",
   "metadata": {},
   "source": [
    "# *Задание 6\n",
    "Напишите программу, которая сможет вычислять площади трех фигур (круг, треугольник и прямоугольник). Тип фигуры запрашиваем через пользовательский ввод, после чего делаем запрос характеристик фигуры:  \n",
    "* если пользователь выбрал круг, запрашиваем его радиус,\n",
    "* если треугольник – длины трех его сторон;\n",
    "* если прямоугольник – длины двух его сторон."
   ]
  },
  {
   "cell_type": "code",
   "execution_count": 72,
   "metadata": {},
   "outputs": [
    {
     "name": "stdout",
     "output_type": "stream",
     "text": [
      "Введите тип фигуры: Треугольник\n",
      "Введите длину стороны А: 2\n",
      "Введите длину стороны B: 2\n",
      "Введите длину стороны C: 3\n",
      "Площадь треугольника:  1.98\n"
     ]
    }
   ],
   "source": [
    "body_type = input('Введите тип фигуры: ')\n",
    "#r = float(input('Введите радиус: '))\n",
    "#a = float(input('Введите длину стороны А: '))\n",
    "#b = float(input('Введите длину стороны B: '))\n",
    "#c = float(input('Введите длину стороны C: '))\n",
    "\n",
    "if body_type =='Круг':\n",
    "    r = round(float(input('Введите радиус: ')), 2)\n",
    "    if r > 0:\n",
    "        print('Площадь круга: ', r**2 *3.14)\n",
    "if body_type == 'Треугольник':\n",
    "    a = float(input('Введите длину стороны А: '))\n",
    "    b = float(input('Введите длину стороны B: '))\n",
    "    c = float(input('Введите длину стороны C: '))\n",
    "    \n",
    "    p = (a + b + c) / 2\n",
    "    S = round((p*(p-a)*(p-b)*(p-c))**0.5, 2)\n",
    "    print('Площадь треугольника: ', S)\n",
    "\n",
    "if body_type == 'Прямоугольник':\n",
    "    a = float(input('Введите длину стороны А: '))\n",
    "    b = float(input('Введите длину стороны B: '))\n",
    "    print('Площадь прямоугольника: ', round(a*b, 2))"
   ]
  },
  {
   "cell_type": "code",
   "execution_count": null,
   "metadata": {},
   "outputs": [],
   "source": []
  }
 ],
 "metadata": {
  "kernelspec": {
   "display_name": "Python 3",
   "language": "python",
   "name": "python3"
  },
  "language_info": {
   "codemirror_mode": {
    "name": "ipython",
    "version": 3
   },
   "file_extension": ".py",
   "mimetype": "text/x-python",
   "name": "python",
   "nbconvert_exporter": "python",
   "pygments_lexer": "ipython3",
   "version": "3.8.3"
  }
 },
 "nbformat": 4,
 "nbformat_minor": 4
}
